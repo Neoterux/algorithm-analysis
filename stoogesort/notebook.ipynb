{
 "cells": [
  {
   "cell_type": "markdown",
   "metadata": {},
   "source": [
    "# Algoritmo StoogeSort\n",
    "\n",
    "Estudiante: Luis Bajaña\n",
    "\n",
    "## Requerimientos:\n",
    "\n",
    "- Carga de datos mediante un archivo\n",
    "- Medir tiempo de ejecución entre diferentes tipos de entrada\n"
   ]
  }
 ],
 "metadata": {
  "language_info": {
   "name": "python"
  }
 },
 "nbformat": 4,
 "nbformat_minor": 2
}
